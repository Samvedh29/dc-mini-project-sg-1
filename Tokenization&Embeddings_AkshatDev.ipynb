{
  "nbformat": 4,
  "nbformat_minor": 0,
  "metadata": {
    "colab": {
      "provenance": [],
      "authorship_tag": "ABX9TyMVh7gnuqhaugFmDORnUHtH",
      "include_colab_link": true
    },
    "kernelspec": {
      "name": "python3",
      "display_name": "Python 3"
    },
    "language_info": {
      "name": "python"
    }
  },
  "cells": [
    {
      "cell_type": "markdown",
      "metadata": {
        "id": "view-in-github",
        "colab_type": "text"
      },
      "source": [
        "<a href=\"https://colab.research.google.com/github/AkshatDev2057/dc-mini-project-sg-1/blob/main/Tokenization%26Embeddings_AkshatDev.ipynb\" target=\"_parent\"><img src=\"https://colab.research.google.com/assets/colab-badge.svg\" alt=\"Open In Colab\"/></a>"
      ]
    },
    {
      "cell_type": "code",
      "source": [
        "\"\"\"Task 1.1 - Reason why sub-word tokenization is optimal than tokenizing by word by word?\n",
        "Tokenization is basically a method to give a number to a word or a sub-word (sub-word tokenization methods are optimal) to effectively represent a piece of text as a list of numbers.\n",
        "Sub-word tokenization is a method used to break words down into smaller sub-tokens. It is based on the concept that many words in a language share common prefixes or suffixes, and by breaking words into smaller units, we can handle rare and out-of-vocabulary words more effectively.\n",
        "Subword tokenization outperforms traditional word-by-word tokenization in several crucial aspects:\n",
        "\n",
        "1.Vocabulary Coverage\n",
        "\n",
        "Subword tokenization: Effectively handles out-of-vocabulary words by breaking them into smaller, familiar units.\n",
        "word-by-word: Struggles with unfamiliar words, often replacing them with generic tokens like <UNK>.\n",
        "Example :\n",
        "Word: \"unfriendliness\"\n",
        "Subword: \"un\" + \"friend\" + \"li\" + \"ness\"\n",
        "Word-by-word: \"<UNK>\" (if not in vocabulary)\n",
        "Here, subword tokenization breaks down a potentially unfamiliar word into recognizable parts, while word-by-word might treat it as unknown.\n",
        "\n",
        "2.Model Efficiency\n",
        "\n",
        "Subword tokenization: Significantly reduces vocabulary size, leading to more compact models and faster processing.\n",
        "\n",
        "\n",
        "Word-by-word: Requires larger vocabularies, resulting in bulkier models and slower computations.\n",
        "Example:\n",
        "Vocabulary size for 10,000 words:\n",
        "Subword: ~5,000 subword tokens\n",
        "Word-by-word: 10,000 tokens\n",
        "Subword tokenization typically requires fewer unique tokens to represent the same vocabulary, leading to smaller models.\n",
        "\n",
        "3.Morphological Understanding\n",
        "\n",
        "Subword tokenization: Captures meaningful subunits within words, enhancing understanding of word structure and meaning.\n",
        "Word-by-word: Treats each word as an atomic unit, missing internal word structure and relationships.\n",
        "Example:-\n",
        "Word: \"playfully\"\n",
        "Subword: \"play\" + \"ful\" + \"ly\"\n",
        "Word-by-word: \"playfully\"\n",
        "Subword tokenization captures the root word and suffixes, providing insight into the word's structure and meaning.\n",
        "\n",
        "4.Language Flexibility\n",
        "\n",
        "Subword tokenization: Adapts well to various languages, including those with complex morphology or agglutinative structures.\n",
        "\n",
        "\n",
        "Word-by-word: Often struggles with languages that have rich morphology or frequent compound words.\n",
        "Example:\n",
        "German compound word: \"Klimaanlage\" (air conditioner)\n",
        "Subword: \"Klima\" + \"anlage\"\n",
        "Word-by-word: \"Klimaanlage\"\n",
        "Subword tokenization can break down compound words, which is particularly useful for languages like German that frequently use them.\n",
        "Especially in such cases , Sub-word tokenization dominates over the word-by-word tokenization.\n",
        "5.Rare Word Handling\n",
        "\n",
        "Subword tokenization: Improves representation of rare words by breaking them into more common subunits.\n",
        "\n",
        "\n",
        "Word-by-word: Typically provides poor representations for rare words due to limited exposure during training.\n",
        "Examples for these are many , let’s consider : -\n",
        "Rare word: \"cryptocurrency\"\n",
        "Subword: \"crypto\" + \"currency\"\n",
        "Word-by-word: \"<UNK>\" or poorly represented \"cryptocurrency\"\n",
        "\n",
        "6.Cross-lingual Capabilities\n",
        "\n",
        "Subword tokenization: Facilitates multilingual model development with methods that work across languages.\n",
        "\n",
        "\n",
        "Word-by-word: Often requires language-specific preprocessing, making multilingual modeling more challenging.\n",
        "\tExample :\n",
        "\tEnglish: \"multilingual\"\n",
        "Spanish: \"multilingüe\"\n",
        "Subword: \"multi\" + \"lingual\" / \"multi\" + \"lingüe\"\n",
        "Word-by-word: Treated as separate, unrelated words\n",
        "\n",
        "\n",
        "By addressing these key areas, subword tokenization offers a more robust, efficient, and versatile approach to text processing compared to traditional word-by-word methods, making it the preferred choice for many modern NLP tasks.\n",
        "Therefore we can clearly see that subword tokenization works much better when compared to word-by-word.\"\"\"\n"
      ],
      "metadata": {
        "colab": {
          "base_uri": "https://localhost:8080/",
          "height": 179
        },
        "id": "BGFRo2hblyxJ",
        "outputId": "fc925546-695c-4b66-a7f1-7b814763c13a"
      },
      "execution_count": null,
      "outputs": [
        {
          "output_type": "execute_result",
          "data": {
            "text/plain": [
              "'Task 1.1 - Reason why sub-word tokenization is optimal than tokenizing by word by word? \\nTokenization is basically a method to give a number to a word or a sub-word (sub-word tokenization methods are optimal) to effectively represent a piece of text as a list of numbers.\\nSub-word tokenization is a method used to break words down into smaller sub-tokens. It is based on the concept that many words in a language share common prefixes or suffixes, and by breaking words into smaller units, we can handle rare and out-of-vocabulary words more effectively.\\nSubword tokenization outperforms traditional word-by-word tokenization in several crucial aspects:\\n\\n1.Vocabulary Coverage\\n\\nSubword tokenization: Effectively handles out-of-vocabulary words by breaking them into smaller, familiar units.\\nword-by-word: Struggles with unfamiliar words, often replacing them with generic tokens like <UNK>.\\nExample : \\nWord: \"unfriendliness\"\\nSubword: \"un\" + \"friend\" + \"li\" + \"ness\"\\nWord-by-word: \"<UNK>\" (if not in vocabulary)\\nHere, subword tokenization breaks down a potentially unfamiliar word into recognizable parts, while word-by-word might treat it as unknown.\\n\\n2.Model Efficiency\\n\\nSubword tokenization: Significantly reduces vocabulary size, leading to more compact models and faster processing.\\n\\n\\nWord-by-word: Requires larger vocabularies, resulting in bulkier models and slower computations.\\nExample: \\nVocabulary size for 10,000 words:\\nSubword: ~5,000 subword tokens\\nWord-by-word: 10,000 tokens\\nSubword tokenization typically requires fewer unique tokens to represent the same vocabulary, leading to smaller models.\\n\\n3.Morphological Understanding\\n\\nSubword tokenization: Captures meaningful subunits within words, enhancing understanding of word structure and meaning.\\nWord-by-word: Treats each word as an atomic unit, missing internal word structure and relationships.\\nExample:-\\nWord: \"playfully\"\\nSubword: \"play\" + \"ful\" + \"ly\"\\nWord-by-word: \"playfully\"\\nSubword tokenization captures the root word and suffixes, providing insight into the word\\'s structure and meaning.\\n\\n4.Language Flexibility\\n\\nSubword tokenization: Adapts well to various languages, including those with complex morphology or agglutinative structures.\\n\\n\\nWord-by-word: Often struggles with languages that have rich morphology or frequent compound words.\\nExample: \\nGerman compound word: \"Klimaanlage\" (air conditioner)\\nSubword: \"Klima\" + \"anlage\"\\nWord-by-word: \"Klimaanlage\"\\nSubword tokenization can break down compound words, which is particularly useful for languages like German that frequently use them.\\nEspecially in such cases , Sub-word tokenization dominates over the word-by-word tokenization.\\n5.Rare Word Handling\\n\\nSubword tokenization: Improves representation of rare words by breaking them into more common subunits.\\n\\n\\nWord-by-word: Typically provides poor representations for rare words due to limited exposure during training.\\nExamples for these are many , let’s consider : - \\nRare word: \"cryptocurrency\"\\nSubword: \"crypto\" + \"currency\"\\nWord-by-word: \"<UNK>\" or poorly represented \"cryptocurrency\"\\n\\n6.Cross-lingual Capabilities\\n\\nSubword tokenization: Facilitates multilingual model development with methods that work across languages.\\n\\n\\nWord-by-word: Often requires language-specific preprocessing, making multilingual modeling more challenging.\\n\\tExample : \\n\\tEnglish: \"multilingual\"\\nSpanish: \"multilingüe\"\\nSubword: \"multi\" + \"lingual\" / \"multi\" + \"lingüe\"\\nWord-by-word: Treated as separate, unrelated words\\n\\n\\nBy addressing these key areas, subword tokenization offers a more robust, efficient, and versatile approach to text processing compared to traditional word-by-word methods, making it the preferred choice for many modern NLP tasks.\\nTherefore we can clearly see that subword tokenization works much better when compared to word-by-word.'"
            ],
            "application/vnd.google.colaboratory.intrinsic+json": {
              "type": "string"
            }
          },
          "metadata": {},
          "execution_count": 22
        }
      ]
    },
    {
      "cell_type": "code",
      "execution_count": null,
      "metadata": {
        "id": "YE3ubTwQf2BM"
      },
      "outputs": [],
      "source": [
        "sentences_class1 = [\"Love is in the air this Valentine's Day.\",\"Roses are red, violets are blue.\",\"Cupid's arrow strikes on February 14th.\",\n",
        "                  \"Romantic dinners and candlelit evenings await.\"\n",
        "                  ,\"Heart-shaped chocolates fill store shelves.\"\n",
        "                  ,\"Valentine's cards express heartfelt emotions.\"\n",
        "                  ,\"Couples exchange gifts on this special day.\"\n",
        "                  ,\"Love songs play softly in the background.\"\n",
        "                  ,\"Red and pink decorations adorn the streets.\"\n",
        "                  ,\"A single rose can say 'I love you'.\"]\n",
        "sentences_class2 =[\"Christmas is the season of giving.\"\n",
        "                  ,\"Santa Claus comes to town on Christmas Eve.\"\n",
        "                  ,\"Bake cookies and leave them for Santa.\"\n",
        "                  ,\"Decorate the Christmas tree with ornaments.\"\n",
        "                  ,\"Carolers sing festive songs door to door.\"\n",
        "                  ,\"Stockings are hung by the chimney with care.\"\n",
        "                  ,\"Families gather for a Christmas feast.\"\n",
        "                  ,\"Mistletoe hangs above the doorway.\"\n",
        "                  ,\"Children eagerly await Christmas morning.\"\n",
        "                ,\"The smell of pine fills the air.\"]"
      ]
    },
    {
      "cell_type": "code",
      "source": [
        "from transformers import AutoTokenizer, AutoModel\n",
        "import torch\n",
        "import torch.nn.functional as F\n",
        "\n",
        "#Mean Pooling - Take attention mask into account for correct averaging\n",
        "def mean_pooling(model_output, attention_mask):\n",
        "    token_embeddings = model_output[0] #First element of model_output contains all token embeddings\n",
        "    input_mask_expanded = attention_mask.unsqueeze(-1).expand(token_embeddings.size()).float()\n",
        "    return torch.sum(token_embeddings * input_mask_expanded, 1) / torch.clamp(input_mask_expanded.sum(1), min=1e-9)\n",
        "\n",
        "\n",
        "# Sentences we want sentence embeddings for\n",
        "sentences = sentences_class1\n",
        "\n",
        "# Load model from HuggingFace Hub\n",
        "tokenizer = AutoTokenizer.from_pretrained('sentence-transformers/all-MiniLM-L6-v2')\n",
        "model = AutoModel.from_pretrained('sentence-transformers/all-MiniLM-L6-v2')\n",
        "\n",
        "# Tokenize sentences\n",
        "encoded_input = tokenizer(sentences, padding=True, truncation=True, return_tensors='pt')\n",
        "\n",
        "# Compute token embeddings\n",
        "with torch.no_grad():\n",
        "    model_output = model(**encoded_input)\n",
        "\n",
        "# Perform pooling\n",
        "sentence_embeddings = mean_pooling(model_output, encoded_input['attention_mask'])\n",
        "\n",
        "# Normalize embeddings\n",
        "sentence_embeddings = F.normalize(sentence_embeddings, p=2, dim=1)\n",
        "\n",
        "print(\"Sentence embeddings:\")\n",
        "print(sentence_embeddings)\n"
      ],
      "metadata": {
        "colab": {
          "base_uri": "https://localhost:8080/"
        },
        "id": "2inD357HhDGz",
        "outputId": "a0306433-43bf-44a8-c50c-39e739d8dd75"
      },
      "execution_count": null,
      "outputs": [
        {
          "output_type": "stream",
          "name": "stdout",
          "text": [
            "Sentence embeddings:\n",
            "tensor([[-0.0669, -0.0233,  0.1027,  ...,  0.0042,  0.0066,  0.0391],\n",
            "        [-0.0161,  0.0042,  0.0692,  ...,  0.0082,  0.0646,  0.0266],\n",
            "        [ 0.0432,  0.0450,  0.0372,  ...,  0.0261,  0.0099,  0.0308],\n",
            "        ...,\n",
            "        [ 0.0380, -0.0018,  0.0512,  ...,  0.0833,  0.0900, -0.0153],\n",
            "        [ 0.0103,  0.0514,  0.0182,  ...,  0.0004, -0.0274,  0.0208],\n",
            "        [-0.0710,  0.0556,  0.1147,  ...,  0.0122,  0.0361, -0.0110]])\n"
          ]
        }
      ]
    },
    {
      "cell_type": "code",
      "source": [
        "from transformers import AutoTokenizer, AutoModel\n",
        "import torch\n",
        "import torch.nn.functional as F\n",
        "\n",
        "#Mean Pooling - Take attention mask into account for correct averaging\n",
        "def mean_pooling(model_output, attention_mask):\n",
        "    token_embeddings = model_output[0] #First element of model_output contains all token embeddings\n",
        "    input_mask_expanded = attention_mask.unsqueeze(-1).expand(token_embeddings.size()).float()\n",
        "    return torch.sum(token_embeddings * input_mask_expanded, 1) / torch.clamp(input_mask_expanded.sum(1), min=1e-9)\n",
        "\n",
        "\n",
        "# Sentences we want sentence embeddings for\n",
        "sentences = sentences_class2\n",
        "\n",
        "# Load model from HuggingFace Hub\n",
        "tokenizer = AutoTokenizer.from_pretrained('sentence-transformers/all-MiniLM-L6-v2')\n",
        "model = AutoModel.from_pretrained('sentence-transformers/all-MiniLM-L6-v2')\n",
        "\n",
        "# Tokenize sentences\n",
        "encoded_input = tokenizer(sentences, padding=True, truncation=True, return_tensors='pt')\n",
        "\n",
        "# Compute token embeddings\n",
        "with torch.no_grad():\n",
        "    model_output = model(**encoded_input)\n",
        "\n",
        "# Perform pooling\n",
        "sentence_embeddings_2 = mean_pooling(model_output, encoded_input['attention_mask'])\n",
        "\n",
        "# Normalize embeddings\n",
        "sentence_embeddings_2 = F.normalize(sentence_embeddings_2, p=2, dim=1)\n",
        "\n",
        "print(\"Sentence embeddings:\")\n",
        "print(sentence_embeddings_2)\n"
      ],
      "metadata": {
        "colab": {
          "base_uri": "https://localhost:8080/"
        },
        "id": "hWZpbvwGh64a",
        "outputId": "1b4070ce-73b9-46a5-d4f9-08a47e27826a"
      },
      "execution_count": null,
      "outputs": [
        {
          "output_type": "stream",
          "name": "stdout",
          "text": [
            "Sentence embeddings:\n",
            "tensor([[-0.0322,  0.0615,  0.0143,  ..., -0.0518,  0.0189,  0.0519],\n",
            "        [ 0.0967,  0.1104, -0.0520,  ...,  0.0114,  0.0374, -0.0386],\n",
            "        [ 0.0573,  0.0888,  0.0024,  ..., -0.0550, -0.0966, -0.0402],\n",
            "        ...,\n",
            "        [ 0.0581,  0.0564, -0.0056,  ...,  0.0299,  0.0032,  0.0530],\n",
            "        [ 0.0138,  0.0618,  0.0020,  ..., -0.0407,  0.0298,  0.0640],\n",
            "        [ 0.0616, -0.0344,  0.0954,  ..., -0.0147, -0.0586,  0.0345]])\n"
          ]
        }
      ]
    },
    {
      "cell_type": "code",
      "source": [
        "from sklearn.manifold import TSNE\n",
        "import matplotlib.pyplot as plt\n",
        "import numpy as np\n",
        "\n",
        "# Combine both classes into a single dataset\n",
        "embeddings = np.vstack((sentence_embeddings,sentence_embeddings_2))\n",
        "\n",
        "# Create labels for the two classes (0 for Class 1, 1 for Class 2)\n",
        "labels = np.array([0] * len(sentence_embeddings) + [1] * len(sentence_embeddings_2))\n",
        "\n",
        "# Apply t-SNE to reduce dimensions to 2D\n",
        "tsne = TSNE(n_components=2, perplexity=5, random_state=42)\n",
        "embeddings_2d = tsne.fit_transform(embeddings)\n",
        "\n",
        "# Visualize the t-SNE results\n",
        "plt.figure(figsize=(10, 8))\n",
        "\n",
        "# Scatter plot for Class 1\n",
        "plt.scatter(\n",
        "    embeddings_2d[labels == 0, 0], embeddings_2d[labels == 0, 1],\n",
        "    color='red', label='Class 1 (Valentine\\'s Day)'\n",
        ")\n",
        "\n",
        "# Scatter plot for Class 2\n",
        "plt.scatter(\n",
        "    embeddings_2d[labels == 1, 0], embeddings_2d[labels == 1, 1],\n",
        "    color='blue', label='Class 2 (Christmas)'\n",
        ")\n",
        "\n",
        "# Add labels and legend\n",
        "plt.title(\"t-SNE Visualization of Two Classes of Sentence Embeddings\")\n",
        "plt.xlabel(\"t-SNE Dimension 1\")\n",
        "plt.ylabel(\"t-SNE Dimension 2\")\n",
        "plt.legend()\n",
        "plt.grid(True)\n",
        "plt.show()\n"
      ],
      "metadata": {
        "colab": {
          "base_uri": "https://localhost:8080/",
          "height": 718
        },
        "id": "Eboh6u-slMJe",
        "outputId": "0a3eba0c-22f2-44eb-d7c0-32b244c82c55"
      },
      "execution_count": null,
      "outputs": [
        {
          "output_type": "display_data",
          "data": {
            "text/plain": [
              "<Figure size 1000x800 with 1 Axes>"
            ],
            "image/png": "[encoded data removed]"
          },
          "metadata": {}
        }
      ]
    },
    {
      "cell_type": "code",
      "source": [
        "\"\"\"As we can clearly see the two classes of the dataset is differently clustered\n",
        "  we can say that the type of embedding used is contextual or dynamic .\"\"\"\n"
      ],
      "metadata": {
        "colab": {
          "base_uri": "https://localhost:8080/",
          "height": 53
        },
        "id": "3rg-AorznR_L",
        "outputId": "a4554e6a-385c-40df-b57e-69ffa2782869"
      },
      "execution_count": null,
      "outputs": [
        {
          "output_type": "execute_result",
          "data": {
            "text/plain": [
              "'As we can clearly see the two classes of the dataset is differently clustered\\n  we can say that the type of embedding used is contextual or dynamic .'"
            ],
            "application/vnd.google.colaboratory.intrinsic+json": {
              "type": "string"
            }
          },
          "metadata": {},
          "execution_count": 27
        }
      ]
    }
  ]
}