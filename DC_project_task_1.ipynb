{
  "nbformat": 4,
  "nbformat_minor": 0,
  "metadata": {
    "colab": {
      "provenance": []
    },
    "kernelspec": {
      "name": "python3",
      "display_name": "Python 3"
    },
    "language_info": {
      "name": "python"
    }
  },
  "cells": [
    {
      "cell_type": "markdown",
      "source": [
        "# **Task 1.1**\n",
        "\n",
        "Reason why sub word tokenisation is more optimal than tokenising word by word.\n",
        "\n",
        "There are many reasons why:\n",
        "\n",
        "1)\tSub word tokenisation handles out of vocabulary words far better than tokenising word by word. Because it is able to put together certain pieces of different words it is able to effectively handle words it hasn’t seen before. For example, ‘anyplace’ is a combination of ‘any’ and ‘place’.\n",
        "\n",
        "2)\tIt reduces the model complexity by reducing the vocabulary size so that different forms of the same word aren’t interpreted as different words, like, ‘kicking’ and ‘kicked’ are essentially the same word with different suffixes (‘ed’, ‘ing’).\n",
        "\n",
        "3)\tIt helps deal with multilingual data without having to do much pre-processing in that language allowing for better generalisation across languages.\n",
        "\n",
        "4)\tIn low training data scenarios sub word tokenisation allows for reusing of the same word across different context allowing for lesser sparsity in training data giving the model a better understanding of relationships in the data.\n",
        "\n"
      ],
      "metadata": {
        "id": "1ev37MI37lGJ"
      }
    },
    {
      "cell_type": "markdown",
      "source": [
        "# **Task 1.2**"
      ],
      "metadata": {
        "id": "ApWNyLK778Zm"
      }
    },
    {
      "cell_type": "markdown",
      "source": [
        "Importing libraries"
      ],
      "metadata": {
        "id": "caUwIjj98MPQ"
      }
    },
    {
      "cell_type": "code",
      "source": [
        "from sentence_transformers import SentenceTransformer\n",
        "import numpy as np\n",
        "import matplotlib.pyplot as plt\n",
        "import seaborn as sns\n",
        "import pandas as pd\n"
      ],
      "metadata": {
        "id": "Np9xxMU2qElf"
      },
      "execution_count": null,
      "outputs": []
    },
    {
      "cell_type": "markdown",
      "source": [
        "Createing Sentence classes"
      ],
      "metadata": {
        "id": "RUyfFZ9w8QTW"
      }
    },
    {
      "cell_type": "code",
      "source": [
        "sentence_class_1 = ['RCB will win the IPL this year','Ee saala cup namde Rcb best anthe','Rcb are the strongest team','RCB the real goat','Kohli is the face of rcb','Rcb have very loyal fans','Rcb play a bold brand of cricket','Rcb are always plaugued with injuries','Rcb have monetised their fan base','RCB have a small stadium']\n",
        "len(sentence_class_1)"
      ],
      "metadata": {
        "colab": {
          "base_uri": "https://localhost:8080/"
        },
        "id": "DhM32uq3qf1U",
        "outputId": "c50f9f72-e556-498f-8830-e9d99604dd08"
      },
      "execution_count": null,
      "outputs": [
        {
          "output_type": "execute_result",
          "data": {
            "text/plain": [
              "10"
            ]
          },
          "metadata": {},
          "execution_count": 12
        }
      ]
    },
    {
      "cell_type": "code",
      "source": [
        "sentence_class_2 = ['Reading books is a good hobby','Books contain information that make people smart','Books have various genres and types','Reading books stimulates the brain','Writing books takes a lot of time','Book clubs are a great way to get to know people','Books are written for various different age groups','Books are available online and offline']\n",
        "len(sentence_class_2)"
      ],
      "metadata": {
        "colab": {
          "base_uri": "https://localhost:8080/"
        },
        "id": "dTvE7ePd8azp",
        "outputId": "af5ce0f3-25ec-4a58-870b-75ba3bf2a756"
      },
      "execution_count": null,
      "outputs": [
        {
          "output_type": "execute_result",
          "data": {
            "text/plain": [
              "8"
            ]
          },
          "metadata": {},
          "execution_count": 13
        }
      ]
    },
    {
      "cell_type": "markdown",
      "source": [
        "Creating embeddings"
      ],
      "metadata": {
        "id": "tOHkCxK28UzO"
      }
    },
    {
      "cell_type": "code",
      "source": [
        "model = SentenceTransformer('sentence-transformers/all-MiniLM-L6-v2')\n",
        "embedding1 = model.encode(sentence_class_1)\n",
        "embedding2 = model.encode(sentence_class_2)\n",
        "len(embedding1)"
      ],
      "metadata": {
        "colab": {
          "base_uri": "https://localhost:8080/"
        },
        "id": "mhYlYKJ4-DVX",
        "outputId": "8615ffdb-aae9-4ea6-e484-947be51cebfe"
      },
      "execution_count": null,
      "outputs": [
        {
          "output_type": "execute_result",
          "data": {
            "text/plain": [
              "10"
            ]
          },
          "metadata": {},
          "execution_count": 14
        }
      ]
    },
    {
      "cell_type": "code",
      "source": [
        "from sklearn.manifold import TSNE"
      ],
      "metadata": {
        "id": "AUoL5eZ_Cldn"
      },
      "execution_count": null,
      "outputs": []
    },
    {
      "cell_type": "markdown",
      "source": [
        "Reducing dimensionality"
      ],
      "metadata": {
        "id": "vSOwfzWS8YMH"
      }
    },
    {
      "cell_type": "code",
      "source": [
        "embed_1_2d = TSNE(n_components=2,perplexity=3).fit_transform(embedding1)\n",
        "embed_2_2d = TSNE(n_components=2,perplexity=3).fit_transform(embedding2)"
      ],
      "metadata": {
        "id": "R0fkMK6nD3V-"
      },
      "execution_count": null,
      "outputs": []
    },
    {
      "cell_type": "markdown",
      "source": [
        "Plotting the graph of the two embeddings"
      ],
      "metadata": {
        "id": "gkY4x7mp8dXP"
      }
    },
    {
      "cell_type": "code",
      "source": [
        "X,y = embed_1_2d.T\n",
        "plt.scatter(X,y,c='red',label='RCB')\n",
        "X1,y1 = embed_2_2d.T\n",
        "plt.scatter(X1,y1,c='blue',label='BOOKS')\n",
        "plt.legend()\n",
        "plt.show()"
      ],
      "metadata": {
        "colab": {
          "base_uri": "https://localhost:8080/",
          "height": 430
        },
        "id": "S1TYYz5-EXBo",
        "outputId": "e38369fa-2d08-47e4-fdd1-d4e6109275fe"
      },
      "execution_count": null,
      "outputs": [
        {
          "output_type": "display_data",
          "data": {
            "text/plain": [
              "<Figure size 640x480 with 1 Axes>"
            ],
            "image/png": "[encoded data removed]"
          },
          "metadata": {}
        }
      ]
    },
    {
      "cell_type": "markdown",
      "source": [
        "**Conclusions**\n",
        "\n",
        "The ‘books’ subclass seems to have been effectively classified however the ‘RCB’ subclass seems to be spread into three separate regions.\n",
        "\n",
        "The encoder used here is probably a co-occurrence based encoder which takes into account the semantic relationships of the words and their placement in the sentence while encoding the data.\n"
      ],
      "metadata": {
        "id": "ejccQw878wj8"
      }
    },
    {
      "cell_type": "code",
      "source": [],
      "metadata": {
        "id": "HC_fX7ytEq9e"
      },
      "execution_count": null,
      "outputs": []
    }
  ]
}